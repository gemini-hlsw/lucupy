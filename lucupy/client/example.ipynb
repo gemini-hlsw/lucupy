{
 "cells": [
  {
   "cell_type": "markdown",
   "metadata": {},
   "source": [
    "# Testing the program note manager"
   ]
  },
  {
   "cell_type": "code",
   "execution_count": null,
   "metadata": {},
   "outputs": [
    {
     "name": "stderr",
     "output_type": "stream",
     "text": [
      "/Users/dan.avner/miniforge3/envs/gql/lib/python3.10/site-packages/gql/transport/aiohttp.py:92: UserWarning: WARNING: By default, AIOHTTPTransport does not verify ssl certificates. This will be fixed in the next major version. You can set ssl=True to force the ssl certificate verification or ssl=False to disable this warning\n",
      "  warnings.warn(\n"
     ]
    }
   ],
   "source": [
    "import nest_asyncio\n",
    "import asyncio\n",
    "from lucupy.client import GPPClient\n",
    "nest_asyncio.apply()\n",
    "\n",
    "# API Credentials and Endpoint\n",
    "GPP_ENV_URL = \"\"\n",
    "GPP_API_KEY = \"\"\n",
    "\n",
    "# Create the LucumaClient instance\n",
    "client = GPPClient(GPP_ENV_URL, GPP_API_KEY)\n",
    "# Ensure an event loop exists\n",
    "loop = asyncio.get_event_loop()"
   ]
  },
  {
   "cell_type": "code",
   "execution_count": 2,
   "metadata": {},
   "outputs": [
    {
     "data": {
      "text/plain": [
       "{'create',\n",
       " 'delete_batch',\n",
       " 'delete_batch_by_program_id',\n",
       " 'delete_by_id',\n",
       " 'get_batch',\n",
       " 'get_batch_by_program_id',\n",
       " 'get_by_id',\n",
       " 'restore_by_id',\n",
       " 'restore_by_program_id',\n",
       " 'update_batch',\n",
       " 'update_batch_by_program_id',\n",
       " 'update_by_id'}"
      ]
     },
     "execution_count": 2,
     "metadata": {},
     "output_type": "execute_result"
    }
   ],
   "source": [
    "# View the available api queries for `program_note`.\n",
    "client.program_note.registered_queries"
   ]
  },
  {
   "cell_type": "code",
   "execution_count": null,
   "metadata": {},
   "outputs": [],
   "source": [
    "# loop.run_until_complete(client.program_note.create(title=\"test2\", text=\"testing the client\", program_id=\"p-23e\"))"
   ]
  },
  {
   "cell_type": "code",
   "execution_count": 3,
   "metadata": {},
   "outputs": [
    {
     "data": {
      "text/plain": [
       "{'programNote': {'id': 'n-1c6', 'title': 'test2'}}"
      ]
     },
     "execution_count": 3,
     "metadata": {},
     "output_type": "execute_result"
    }
   ],
   "source": [
    "fields = \"\"\"\n",
    "    id\n",
    "    title\n",
    "\"\"\"\n",
    "loop.run_until_complete(client.program_note.get_by_id(resource_id=\"n-1c6\", fields=fields))"
   ]
  },
  {
   "cell_type": "code",
   "execution_count": 4,
   "metadata": {},
   "outputs": [
    {
     "data": {
      "text/plain": [
       "{'programNote': {'id': 'n-1c6',\n",
       "  'program': {'id': 'p-23e', 'name': 'Testing GPP client'},\n",
       "  'title': 'test2',\n",
       "  'text': 'wow change again',\n",
       "  'isPrivate': False,\n",
       "  'existence': 'PRESENT'}}"
      ]
     },
     "execution_count": 4,
     "metadata": {},
     "output_type": "execute_result"
    }
   ],
   "source": [
    "# Now with default fields\n",
    "loop.run_until_complete(client.program_note.get_by_id(resource_id=\"n-1c6\"))"
   ]
  },
  {
   "cell_type": "code",
   "execution_count": 3,
   "metadata": {},
   "outputs": [
    {
     "data": {
      "text/plain": [
       "{'updateProgramNotes': {'programNotes': [{'id': 'n-1c6', 'title': 'test2'}],\n",
       "  'hasMore': False}}"
      ]
     },
     "execution_count": 3,
     "metadata": {},
     "output_type": "execute_result"
    }
   ],
   "source": [
    "loop.run_until_complete(client.program_note.update_by_id(\"n-1c6\", text=\"wow change again\", fields=fields))"
   ]
  },
  {
   "cell_type": "code",
   "execution_count": null,
   "metadata": {},
   "outputs": [],
   "source": [
    "loop.run_until_complete(client.program_note.delete_by_id(\"n-1c6\"))"
   ]
  },
  {
   "cell_type": "code",
   "execution_count": null,
   "metadata": {},
   "outputs": [],
   "source": [
    "loop.run_until_complete(client.program_note.restore_by_id(\"n-1c6\"))"
   ]
  },
  {
   "cell_type": "code",
   "execution_count": null,
   "metadata": {},
   "outputs": [],
   "source": []
  }
 ],
 "metadata": {
  "kernelspec": {
   "display_name": "gql",
   "language": "python",
   "name": "python3"
  },
  "language_info": {
   "codemirror_mode": {
    "name": "ipython",
    "version": 3
   },
   "file_extension": ".py",
   "mimetype": "text/x-python",
   "name": "python",
   "nbconvert_exporter": "python",
   "pygments_lexer": "ipython3",
   "version": "3.10.16"
  }
 },
 "nbformat": 4,
 "nbformat_minor": 2
}
